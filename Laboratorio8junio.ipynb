{
  "nbformat": 4,
  "nbformat_minor": 0,
  "metadata": {
    "colab": {
      "name": "Laboratorio8junio.ipynb",
      "provenance": [],
      "authorship_tag": "ABX9TyNNXctrWeyBgoVPQHGbScqA",
      "include_colab_link": true
    },
    "kernelspec": {
      "name": "python3",
      "display_name": "Python 3"
    },
    "language_info": {
      "name": "python"
    }
  },
  "cells": [
    {
      "cell_type": "markdown",
      "metadata": {
        "id": "view-in-github",
        "colab_type": "text"
      },
      "source": [
        "<a href=\"https://colab.research.google.com/github/PriscillaGM/Lab8junio/blob/main/Laboratorio8junio.ipynb\" target=\"_parent\"><img src=\"https://colab.research.google.com/assets/colab-badge.svg\" alt=\"Open In Colab\"/></a>"
      ]
    },
    {
      "cell_type": "markdown",
      "source": [
        "**Laboratorio inicial de uso de Colab**"
      ],
      "metadata": {
        "id": "d442utE-BRrM"
      }
    },
    {
      "cell_type": "markdown",
      "source": [
        "Priscilla González Monge"
      ],
      "metadata": {
        "id": "HjSRS_r5BZ4d"
      }
    },
    {
      "cell_type": "code",
      "execution_count": null,
      "metadata": {
        "colab": {
          "base_uri": "https://localhost:8080/"
        },
        "id": "qzDBfhYlA-vG",
        "outputId": "1bb6a2bf-81d3-4cdd-9434-12ab9451fec7"
      },
      "outputs": [
        {
          "output_type": "stream",
          "name": "stdout",
          "text": [
            "Hola\n"
          ]
        }
      ],
      "source": [
        "print('Hola')"
      ]
    },
    {
      "cell_type": "code",
      "source": [
        "import pandas as pd\n",
        "from google.colab import auth\n",
        "auth.authenticate_user()\n",
        "import gspread\n",
        "from google.auth import default\n",
        "creds, _ = default()\n",
        "gc= gspread.authorize(creds)\n",
        "sh= gc.create('Priscilla') \n"
      ],
      "metadata": {
        "id": "EsgJV9gMBRbb"
      },
      "execution_count": null,
      "outputs": []
    },
    {
      "cell_type": "code",
      "source": [
        "worksheet = gc.open('Priscilla').sheet1\n",
        "cell_list = worksheet.range('A1:G14')\n",
        "import random\n",
        "for cell in cell_list:\n",
        "  cell.value = random.randint(1,10)\n",
        "  worksheet.update_cells(cell_list)"
      ],
      "metadata": {
        "id": "VB3R0rV8EgBW"
      },
      "execution_count": null,
      "outputs": []
    },
    {
      "cell_type": "code",
      "source": [
        "worksheet = gc.open('Priscilla').sheet1\n",
        "rows=worksheet.get_all_values()\n",
        "print(rows)\n"
      ],
      "metadata": {
        "colab": {
          "base_uri": "https://localhost:8080/"
        },
        "id": "uW5e1_ZGH0C0",
        "outputId": "0bf48cc4-78e7-408f-be6e-b4fd15acc70d"
      },
      "execution_count": null,
      "outputs": [
        {
          "output_type": "stream",
          "name": "stdout",
          "text": [
            "[['3', '10', '8', '5', '10', '8', '8'], ['1', '7', '2', '8', '2', '1', '9'], ['1', '9', '10', '3', '5', '2', '10'], ['4', '2', '10', '5', '8', '1', '2'], ['10', '5', '7', '4', '5', '7', '3'], ['2', '1', '9', '3', '7', '1', '10'], ['9', '1', '9', '5', '10', '10', '6'], ['4', '6', '8', '1', '2', '3', '4'], ['7', '7', '2', '3', '8', '8', '6'], ['1', '5', '5', '5', '6', '2', '10'], ['5', '10', '4', '6', '9', '3', '7'], ['1', '5', '6', '9', '8', '10', '2'], ['4', '10', '10', '4', '7', '5', '9'], ['8', '3', '3', '8', '4', '3', '4']]\n"
          ]
        }
      ]
    }
  ]
}